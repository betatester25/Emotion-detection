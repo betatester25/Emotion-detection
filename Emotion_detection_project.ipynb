{
  "nbformat": 4,
  "nbformat_minor": 0,
  "metadata": {
    "colab": {
      "provenance": [],
      "gpuType": "T4",
      "mount_file_id": "1PPxfkf8SddLsb7lt2Pp-xxXz5KzftYFg",
      "authorship_tag": "ABX9TyNXrkuWXTFP6QpPhPgVU3lu",
      "include_colab_link": true
    },
    "kernelspec": {
      "name": "python3",
      "display_name": "Python 3"
    },
    "language_info": {
      "name": "python"
    },
    "accelerator": "GPU"
  },
  "cells": [
    {
      "cell_type": "markdown",
      "metadata": {
        "id": "view-in-github",
        "colab_type": "text"
      },
      "source": [
        "<a href=\"https://colab.research.google.com/github/betatester25/Emotion-detection/blob/main/Emotion_detection_project.ipynb\" target=\"_parent\"><img src=\"https://colab.research.google.com/assets/colab-badge.svg\" alt=\"Open In Colab\"/></a>"
      ]
    },
    {
      "cell_type": "markdown",
      "source": [
        "### **Импорт библиотек**"
      ],
      "metadata": {
        "id": "05_dNbtBxmxF"
      }
    },
    {
      "cell_type": "code",
      "execution_count": null,
      "metadata": {
        "id": "VoYd5gTAJO2M"
      },
      "outputs": [],
      "source": [
        "import numpy as np\n",
        "import pandas as pd\n",
        "import os, cv2\n",
        "import matplotlib.pyplot as plt\n",
        "%matplotlib inline\n",
        "import matplotlib.image as mpimg\n",
        "from pylab import rcParams\n",
        "rcParams['figure.figsize'] = 20, 10\n",
        "from PIL import Image\n",
        "import random\n",
        "import pathlib\n",
        "\n",
        "from sklearn.utils import shuffle\n",
        "from sklearn.model_selection import train_test_split\n",
        "\n",
        "from tensorflow.keras.preprocessing.image import ImageDataGenerator\n",
        "from tensorflow.keras.utils import plot_model\n",
        "\n",
        "import keras\n",
        "!pip install np_utils\n",
        "from keras.models import Sequential\n",
        "from keras.layers import Dense, Activation, Dropout, Flatten, BatchNormalization\n",
        "from keras.layers.convolutional import MaxPooling2D, Conv2D\n",
        "from keras.metrics import categorical_accuracy\n",
        "from keras.models import model_from_json\n",
        "from keras.callbacks import ModelCheckpoint\n",
        "from keras.optimizers import *\n",
        "from keras.layers.normalization import batch_normalization\n",
        "from tensorflow.keras.utils import to_categorical\n",
        "\n",
        "from keras.wrappers.scikit_learn import KerasClassifier\n",
        "from sklearn.model_selection import cross_val_score, cross_val_predict\n",
        "from sklearn.datasets import make_classification\n",
        "from keras.callbacks import EarlyStopping, ModelCheckpoint, ReduceLROnPlateau"
      ]
    },
    {
      "cell_type": "markdown",
      "source": [
        "### **Загрузка данных**"
      ],
      "metadata": {
        "id": "34Yb0LFBxtna"
      }
    },
    {
      "cell_type": "code",
      "source": [
        "data_path = '/content/drive/MyDrive/Development/AI/Data/Emotions'"
      ],
      "metadata": {
        "id": "YeWYkg60N4-W"
      },
      "execution_count": null,
      "outputs": []
    },
    {
      "cell_type": "code",
      "source": [
        "data_dir = pathlib.Path(data_path)\n",
        "data_dir"
      ],
      "metadata": {
        "colab": {
          "base_uri": "https://localhost:8080/"
        },
        "id": "9D8IS_fYOM8l",
        "outputId": "1595e73b-158c-47ea-84fe-d9ecda89b921"
      },
      "execution_count": null,
      "outputs": [
        {
          "output_type": "execute_result",
          "data": {
            "text/plain": [
              "PosixPath('/content/drive/MyDrive/Development/AI/Data/Emotions')"
            ]
          },
          "metadata": {},
          "execution_count": 3
        }
      ]
    },
    {
      "cell_type": "code",
      "source": [
        "image_data_dic={\n",
        "\n",
        "\n",
        "    'Anger':list(data_dir.glob('anger/*')),\n",
        "    'Contempt':list(data_dir.glob('contempt/*')),\n",
        "    'Disgust':list(data_dir.glob('disgust/*')),\n",
        "    'Fear':list(data_dir.glob('fear/*')),\n",
        "    'Happy':list(data_dir.glob('happiness/*')),\n",
        "    'Neutral':list(data_dir.glob('neutrality/*')),\n",
        "    'Sad':list(data_dir.glob('sadness/*')),\n",
        "    'Surprise':list(data_dir.glob('surprise/*')),\n",
        "\n",
        "}"
      ],
      "metadata": {
        "id": "dgHcjKFgO7Ea"
      },
      "execution_count": null,
      "outputs": []
    },
    {
      "cell_type": "code",
      "source": [
        "len(image_data_dic['Sad'])"
      ],
      "metadata": {
        "colab": {
          "base_uri": "https://localhost:8080/"
        },
        "id": "740-EQRIPmUw",
        "outputId": "c4b7d82c-92c5-4431-8308-6f08af48eab2"
      },
      "execution_count": null,
      "outputs": [
        {
          "output_type": "execute_result",
          "data": {
            "text/plain": [
              "746"
            ]
          },
          "metadata": {},
          "execution_count": 5
        }
      ]
    },
    {
      "cell_type": "markdown",
      "source": [
        "### **Подготовка данных для обучений нейросети**"
      ],
      "metadata": {
        "id": "SrRe_0Sqx4SZ"
      }
    },
    {
      "cell_type": "code",
      "source": [
        "image_labels_dic={\n",
        "\n",
        "\n",
        "    'Anger':0,\n",
        "    'Contempt':1,\n",
        "    'Disgust':2,\n",
        "    'Fear':3,\n",
        "    'Happy':4,\n",
        "    'Neutral':5,\n",
        "    'Sad':6,\n",
        "    'Surprise':7,\n",
        "}"
      ],
      "metadata": {
        "id": "bsQGcuHgPpNp"
      },
      "execution_count": null,
      "outputs": []
    },
    {
      "cell_type": "code",
      "source": [
        "img = cv2.imread(str(image_data_dic['Neutral'][0]))\n",
        "print(img)\n",
        "print(\"Размер изображения: \",img.shape)"
      ],
      "metadata": {
        "colab": {
          "base_uri": "https://localhost:8080/"
        },
        "id": "0Pbb1Ys5PwHc",
        "outputId": "2155edc2-c84d-4fcd-b1f2-22d36de0cf4e"
      },
      "execution_count": null,
      "outputs": [
        {
          "output_type": "stream",
          "name": "stdout",
          "text": [
            "[[[214 214 214]\n",
            "  [214 214 214]\n",
            "  [214 214 214]\n",
            "  ...\n",
            "  [254 254 254]\n",
            "  [254 254 254]\n",
            "  [254 254 254]]\n",
            "\n",
            " [[214 214 214]\n",
            "  [214 214 214]\n",
            "  [214 214 214]\n",
            "  ...\n",
            "  [254 254 254]\n",
            "  [254 254 254]\n",
            "  [254 254 254]]\n",
            "\n",
            " [[237 237 237]\n",
            "  [237 237 237]\n",
            "  [237 237 237]\n",
            "  ...\n",
            "  [248 248 248]\n",
            "  [248 248 248]\n",
            "  [248 248 248]]\n",
            "\n",
            " ...\n",
            "\n",
            " [[122 122 122]\n",
            "  [122 122 122]\n",
            "  [122 122 122]\n",
            "  ...\n",
            "  [153 153 153]\n",
            "  [153 153 153]\n",
            "  [153 153 153]]\n",
            "\n",
            " [[130 130 130]\n",
            "  [130 130 130]\n",
            "  [130 130 130]\n",
            "  ...\n",
            "  [103 103 103]\n",
            "  [103 103 103]\n",
            "  [103 103 103]]\n",
            "\n",
            " [[130 130 130]\n",
            "  [130 130 130]\n",
            "  [130 130 130]\n",
            "  ...\n",
            "  [103 103 103]\n",
            "  [103 103 103]\n",
            "  [103 103 103]]]\n",
            "Размер изображения:  (224, 224, 3)\n"
          ]
        }
      ]
    },
    {
      "cell_type": "code",
      "source": [
        "X, y = [], []\n",
        "\n",
        "for image_name, images in image_data_dic.items():\n",
        "    for image in images:\n",
        "        img = cv2.imread(str(image))\n",
        "        resized_img = cv2.resize(img,(48,48))\n",
        "        X.append(resized_img)\n",
        "        y.append(image_labels_dic[image_name])"
      ],
      "metadata": {
        "id": "s7VfJQS-QC2v"
      },
      "execution_count": null,
      "outputs": []
    },
    {
      "cell_type": "code",
      "source": [
        "X = np.array(X)\n",
        "y = np.array(y)"
      ],
      "metadata": {
        "id": "_38Fi5KQtJn5"
      },
      "execution_count": null,
      "outputs": []
    },
    {
      "cell_type": "code",
      "source": [
        "X_train, X_test, y_train, y_test = train_test_split(X, y,test_size=0.2, random_state=43)"
      ],
      "metadata": {
        "id": "ysbv9AhRtNXM"
      },
      "execution_count": null,
      "outputs": []
    },
    {
      "cell_type": "code",
      "source": [
        "print(len(X_train))\n",
        "print(len(X_test))"
      ],
      "metadata": {
        "colab": {
          "base_uri": "https://localhost:8080/"
        },
        "id": "G3yUO0Tx0d_I",
        "outputId": "2ad2910c-ba78-4668-8049-2a7483e9fdea"
      },
      "execution_count": null,
      "outputs": [
        {
          "output_type": "stream",
          "name": "stdout",
          "text": [
            "4446\n",
            "1112\n"
          ]
        }
      ]
    },
    {
      "cell_type": "code",
      "source": [
        "X_train.shape"
      ],
      "metadata": {
        "colab": {
          "base_uri": "https://localhost:8080/"
        },
        "id": "ap-ypiyZ0fO3",
        "outputId": "a6faf0dd-c14c-4173-cfd9-1650a789f0b4"
      },
      "execution_count": null,
      "outputs": [
        {
          "output_type": "execute_result",
          "data": {
            "text/plain": [
              "(4446, 48, 48, 3)"
            ]
          },
          "metadata": {},
          "execution_count": 12
        }
      ]
    },
    {
      "cell_type": "code",
      "source": [
        "X_test.shape"
      ],
      "metadata": {
        "colab": {
          "base_uri": "https://localhost:8080/"
        },
        "id": "HVqhG1Rw0jUx",
        "outputId": "8025becf-ea08-4da1-c221-0ce177549720"
      },
      "execution_count": null,
      "outputs": [
        {
          "output_type": "execute_result",
          "data": {
            "text/plain": [
              "(1112, 48, 48, 3)"
            ]
          },
          "metadata": {},
          "execution_count": 13
        }
      ]
    },
    {
      "cell_type": "code",
      "source": [
        "X_train_scaled = X_train / 255\n",
        "X_test_scaled = X_test / 255"
      ],
      "metadata": {
        "id": "tLtaHbBR0ngz"
      },
      "execution_count": null,
      "outputs": []
    },
    {
      "cell_type": "code",
      "source": [
        "num_classes=8\n",
        "y_train = to_categorical(y_train, 8)\n",
        "y_test = to_categorical(y_test, 8)"
      ],
      "metadata": {
        "id": "usJYHqxg0oxM"
      },
      "execution_count": null,
      "outputs": []
    },
    {
      "cell_type": "markdown",
      "source": [
        "### **Создание нейросетевой модели**"
      ],
      "metadata": {
        "id": "IxL6goPGx-xe"
      }
    },
    {
      "cell_type": "code",
      "source": [
        "def create_model():\n",
        "  model = Sequential()\n",
        "  model.add(Conv2D(32, (3, 3), padding='same', input_shape=(48,48,3), activation='relu'))\n",
        "  model.add(Conv2D(32, (3, 3), padding='same', activation='relu'))\n",
        "  model.add(MaxPooling2D(pool_size=(2, 2)))\n",
        "  model.add(Dropout(0.25))\n",
        "  model.add(Flatten())\n",
        "  model.add(Dense(256, activation='relu'))\n",
        "  model.add(Dropout(0.25))\n",
        "  model.add(Dense(8, activation='softmax'))\n",
        "\n",
        "  # компиляция сети\n",
        "  model.compile(loss='categorical_crossentropy', optimizer='adam',\n",
        "                metrics=['accuracy'])\n",
        "\n",
        "  return model"
      ],
      "metadata": {
        "id": "j7c4UQdx1eDR"
      },
      "execution_count": null,
      "outputs": []
    },
    {
      "cell_type": "code",
      "source": [
        "model = create_model()\n",
        "model.summary()"
      ],
      "metadata": {
        "colab": {
          "base_uri": "https://localhost:8080/"
        },
        "id": "e9p6s1521jov",
        "outputId": "963a94dd-1543-48bb-d8f1-53da111550f2"
      },
      "execution_count": null,
      "outputs": [
        {
          "output_type": "stream",
          "name": "stdout",
          "text": [
            "Model: \"sequential\"\n",
            "_________________________________________________________________\n",
            " Layer (type)                Output Shape              Param #   \n",
            "=================================================================\n",
            " conv2d (Conv2D)             (None, 48, 48, 32)        896       \n",
            "                                                                 \n",
            " conv2d_1 (Conv2D)           (None, 48, 48, 32)        9248      \n",
            "                                                                 \n",
            " max_pooling2d (MaxPooling2D  (None, 24, 24, 32)       0         \n",
            " )                                                               \n",
            "                                                                 \n",
            " dropout (Dropout)           (None, 24, 24, 32)        0         \n",
            "                                                                 \n",
            " flatten (Flatten)           (None, 18432)             0         \n",
            "                                                                 \n",
            " dense (Dense)               (None, 256)               4718848   \n",
            "                                                                 \n",
            " dropout_1 (Dropout)         (None, 256)               0         \n",
            "                                                                 \n",
            " dense_1 (Dense)             (None, 8)                 2056      \n",
            "                                                                 \n",
            "=================================================================\n",
            "Total params: 4,731,048\n",
            "Trainable params: 4,731,048\n",
            "Non-trainable params: 0\n",
            "_________________________________________________________________\n"
          ]
        }
      ]
    },
    {
      "cell_type": "code",
      "source": [
        "plot_model(model, show_layer_names=False, show_shapes=True, to_file='model.png')"
      ],
      "metadata": {
        "colab": {
          "base_uri": "https://localhost:8080/",
          "height": 976
        },
        "id": "ihqVSPPy1mK3",
        "outputId": "9c3f235d-b5ac-4d99-f022-7f9f1f22dd2b"
      },
      "execution_count": null,
      "outputs": [
        {
          "output_type": "execute_result",
          "data": {
            "image/png": "[encoded data removed]",
            "text/plain": [
              "<IPython.core.display.Image object>"
            ]
          },
          "metadata": {},
          "execution_count": 31
        }
      ]
    },
    {
      "cell_type": "markdown",
      "source": [
        "### **Обучение нейросети**"
      ],
      "metadata": {
        "id": "u4jfFCwLyGef"
      }
    },
    {
      "cell_type": "code",
      "source": [
        "batch_size = 10\n",
        "epochs = 70\n",
        "verbose = 1"
      ],
      "metadata": {
        "id": "OEC6MOgs1w7G"
      },
      "execution_count": null,
      "outputs": []
    },
    {
      "cell_type": "code",
      "source": [
        "network = model.fit(X_train, y_train,\n",
        "                           batch_size=batch_size,\n",
        "                           epochs=epochs,\n",
        "                           verbose=verbose)\n",
        "\n",
        "# отображаем график точности обучения\n",
        "plt.figure(figsize=(14, 5))\n",
        "plt.plot(network.history['accuracy'],\n",
        "         label='Доля верных ответов на обучающей выборке')\n",
        "plt.xlabel('Эпоха обучения')\n",
        "plt.ylabel('Доля верных ответов')\n",
        "plt.legend()\n",
        "plt.show()"
      ],
      "metadata": {
        "colab": {
          "base_uri": "https://localhost:8080/",
          "height": 1000
        },
        "id": "i58LirvQ1xeq",
        "outputId": "c31d8241-c992-45f2-c6ac-f96c546f6621"
      },
      "execution_count": null,
      "outputs": [
        {
          "output_type": "stream",
          "name": "stdout",
          "text": [
            "Epoch 1/70\n",
            "445/445 [==============================] - 44s 98ms/step - loss: 7.3195 - accuracy: 0.2377\n",
            "Epoch 2/70\n",
            "445/445 [==============================] - 47s 106ms/step - loss: 1.8733 - accuracy: 0.3016\n",
            "Epoch 3/70\n",
            "445/445 [==============================] - 43s 97ms/step - loss: 1.7254 - accuracy: 0.3644\n",
            "Epoch 4/70\n",
            "445/445 [==============================] - 44s 98ms/step - loss: 1.5874 - accuracy: 0.4202\n",
            "Epoch 5/70\n",
            "445/445 [==============================] - 44s 98ms/step - loss: 1.4327 - accuracy: 0.4838\n",
            "Epoch 6/70\n",
            "445/445 [==============================] - 44s 98ms/step - loss: 1.2535 - accuracy: 0.5596\n",
            "Epoch 7/70\n",
            "445/445 [==============================] - 45s 102ms/step - loss: 1.1172 - accuracy: 0.6093\n",
            "Epoch 8/70\n",
            "445/445 [==============================] - 44s 98ms/step - loss: 1.0080 - accuracy: 0.6527\n",
            "Epoch 9/70\n",
            "445/445 [==============================] - 44s 98ms/step - loss: 0.8647 - accuracy: 0.6955\n",
            "Epoch 10/70\n",
            "445/445 [==============================] - 43s 97ms/step - loss: 0.7987 - accuracy: 0.7341\n",
            "Epoch 11/70\n",
            "445/445 [==============================] - 45s 102ms/step - loss: 0.6561 - accuracy: 0.7731\n",
            "Epoch 12/70\n",
            "445/445 [==============================] - 44s 98ms/step - loss: 0.6591 - accuracy: 0.7877\n",
            "Epoch 13/70\n",
            "445/445 [==============================] - 43s 98ms/step - loss: 0.5501 - accuracy: 0.8284\n",
            "Epoch 14/70\n",
            "445/445 [==============================] - 43s 97ms/step - loss: 0.5543 - accuracy: 0.8405\n",
            "Epoch 15/70\n",
            "445/445 [==============================] - 45s 102ms/step - loss: 0.4328 - accuracy: 0.8655\n",
            "Epoch 16/70\n",
            "445/445 [==============================] - 43s 98ms/step - loss: 0.4440 - accuracy: 0.8666\n",
            "Epoch 17/70\n",
            "445/445 [==============================] - 44s 98ms/step - loss: 0.4178 - accuracy: 0.8794\n",
            "Epoch 18/70\n",
            "445/445 [==============================] - 44s 98ms/step - loss: 0.3926 - accuracy: 0.8896\n",
            "Epoch 19/70\n",
            "445/445 [==============================] - 45s 102ms/step - loss: 0.3829 - accuracy: 0.8923\n",
            "Epoch 20/70\n",
            "445/445 [==============================] - 44s 98ms/step - loss: 0.3209 - accuracy: 0.9154\n",
            "Epoch 21/70\n",
            "445/445 [==============================] - 43s 97ms/step - loss: 0.3791 - accuracy: 0.9006\n",
            "Epoch 22/70\n",
            "445/445 [==============================] - 44s 98ms/step - loss: 0.3229 - accuracy: 0.9125\n",
            "Epoch 23/70\n",
            "445/445 [==============================] - 44s 98ms/step - loss: 0.3216 - accuracy: 0.9132\n",
            "Epoch 24/70\n",
            "445/445 [==============================] - 46s 103ms/step - loss: 0.2612 - accuracy: 0.9318\n",
            "Epoch 25/70\n",
            "445/445 [==============================] - 43s 98ms/step - loss: 0.3097 - accuracy: 0.9222\n",
            "Epoch 26/70\n",
            "445/445 [==============================] - 43s 97ms/step - loss: 0.3088 - accuracy: 0.9271\n",
            "Epoch 27/70\n",
            "445/445 [==============================] - 43s 97ms/step - loss: 0.2639 - accuracy: 0.9377\n",
            "Epoch 28/70\n",
            "445/445 [==============================] - 45s 102ms/step - loss: 0.3082 - accuracy: 0.9312\n",
            "Epoch 29/70\n",
            "445/445 [==============================] - 43s 97ms/step - loss: 0.2851 - accuracy: 0.9312\n",
            "Epoch 30/70\n",
            "445/445 [==============================] - 43s 97ms/step - loss: 0.2416 - accuracy: 0.9449\n",
            "Epoch 31/70\n",
            "445/445 [==============================] - 43s 97ms/step - loss: 0.2522 - accuracy: 0.9408\n",
            "Epoch 32/70\n",
            "445/445 [==============================] - 45s 102ms/step - loss: 0.2464 - accuracy: 0.9395\n",
            "Epoch 33/70\n",
            "445/445 [==============================] - 43s 97ms/step - loss: 0.2522 - accuracy: 0.9357\n",
            "Epoch 34/70\n",
            "445/445 [==============================] - 43s 98ms/step - loss: 0.2420 - accuracy: 0.9417\n",
            "Epoch 35/70\n",
            "445/445 [==============================] - 48s 107ms/step - loss: 0.2566 - accuracy: 0.9357\n",
            "Epoch 36/70\n",
            "445/445 [==============================] - 50s 112ms/step - loss: 0.2187 - accuracy: 0.9492\n",
            "Epoch 37/70\n",
            "445/445 [==============================] - 47s 105ms/step - loss: 0.2536 - accuracy: 0.9336\n",
            "Epoch 38/70\n",
            "445/445 [==============================] - 48s 107ms/step - loss: 0.2658 - accuracy: 0.9368\n",
            "Epoch 39/70\n",
            "445/445 [==============================] - 48s 108ms/step - loss: 0.2320 - accuracy: 0.9501\n",
            "Epoch 40/70\n",
            "445/445 [==============================] - 48s 109ms/step - loss: 0.2424 - accuracy: 0.9433\n",
            "Epoch 41/70\n",
            "445/445 [==============================] - 48s 107ms/step - loss: 0.2136 - accuracy: 0.9485\n",
            "Epoch 42/70\n",
            "445/445 [==============================] - 48s 109ms/step - loss: 0.1934 - accuracy: 0.9539\n",
            "Epoch 43/70\n",
            "445/445 [==============================] - 47s 106ms/step - loss: 0.1798 - accuracy: 0.9586\n",
            "Epoch 44/70\n",
            "445/445 [==============================] - 49s 110ms/step - loss: 0.2722 - accuracy: 0.9456\n",
            "Epoch 45/70\n",
            "445/445 [==============================] - 47s 106ms/step - loss: 0.2222 - accuracy: 0.9498\n",
            "Epoch 46/70\n",
            "445/445 [==============================] - 48s 107ms/step - loss: 0.2569 - accuracy: 0.9480\n",
            "Epoch 47/70\n",
            "445/445 [==============================] - 48s 108ms/step - loss: 0.2395 - accuracy: 0.9489\n",
            "Epoch 48/70\n",
            "445/445 [==============================] - 50s 111ms/step - loss: 0.1907 - accuracy: 0.9573\n",
            "Epoch 49/70\n",
            "445/445 [==============================] - 47s 106ms/step - loss: 0.2359 - accuracy: 0.9548\n",
            "Epoch 50/70\n",
            "445/445 [==============================] - 47s 107ms/step - loss: 0.2205 - accuracy: 0.9523\n",
            "Epoch 51/70\n",
            "445/445 [==============================] - 47s 105ms/step - loss: 0.2056 - accuracy: 0.9561\n",
            "Epoch 52/70\n",
            "445/445 [==============================] - 49s 109ms/step - loss: 0.1959 - accuracy: 0.9577\n",
            "Epoch 53/70\n",
            "445/445 [==============================] - 47s 105ms/step - loss: 0.1806 - accuracy: 0.9568\n",
            "Epoch 54/70\n",
            "445/445 [==============================] - 48s 109ms/step - loss: 0.2421 - accuracy: 0.9503\n",
            "Epoch 55/70\n",
            "445/445 [==============================] - 48s 107ms/step - loss: 0.1721 - accuracy: 0.9602\n",
            "Epoch 56/70\n",
            "445/445 [==============================] - 49s 110ms/step - loss: 0.2006 - accuracy: 0.9561\n",
            "Epoch 57/70\n",
            "445/445 [==============================] - 46s 104ms/step - loss: 0.1948 - accuracy: 0.9597\n",
            "Epoch 58/70\n",
            "445/445 [==============================] - 48s 107ms/step - loss: 0.3018 - accuracy: 0.9420\n",
            "Epoch 59/70\n",
            "445/445 [==============================] - 47s 106ms/step - loss: 0.2271 - accuracy: 0.9510\n",
            "Epoch 60/70\n",
            "445/445 [==============================] - 50s 111ms/step - loss: 0.1752 - accuracy: 0.9615\n",
            "Epoch 61/70\n",
            "445/445 [==============================] - 47s 105ms/step - loss: 0.1826 - accuracy: 0.9604\n",
            "Epoch 62/70\n",
            "445/445 [==============================] - 44s 100ms/step - loss: 0.1774 - accuracy: 0.9620\n",
            "Epoch 63/70\n",
            "445/445 [==============================] - 44s 99ms/step - loss: 0.1990 - accuracy: 0.9595\n",
            "Epoch 64/70\n",
            "445/445 [==============================] - 46s 102ms/step - loss: 0.2071 - accuracy: 0.9622\n",
            "Epoch 65/70\n",
            "445/445 [==============================] - 44s 98ms/step - loss: 0.1687 - accuracy: 0.9692\n",
            "Epoch 66/70\n",
            "445/445 [==============================] - 44s 98ms/step - loss: 0.2179 - accuracy: 0.9591\n",
            "Epoch 67/70\n",
            "445/445 [==============================] - 43s 98ms/step - loss: 0.1832 - accuracy: 0.9618\n",
            "Epoch 68/70\n",
            "445/445 [==============================] - 45s 102ms/step - loss: 0.1450 - accuracy: 0.9708\n",
            "Epoch 69/70\n",
            "445/445 [==============================] - 44s 98ms/step - loss: 0.2105 - accuracy: 0.9629\n",
            "Epoch 70/70\n",
            "445/445 [==============================] - 44s 98ms/step - loss: 0.1705 - accuracy: 0.9674\n"
          ]
        },
        {
          "output_type": "display_data",
          "data": {
            "text/plain": [
              "<Figure size 1008x360 with 1 Axes>"
            ],
            "image/png": "[encoded data removed]"
          },
          "metadata": {
            "needs_background": "light"
          }
        }
      ]
    },
    {
      "cell_type": "markdown",
      "source": [
        "### **Сохранение модели**"
      ],
      "metadata": {
        "id": "8otOrUOMyS8a"
      }
    },
    {
      "cell_type": "code",
      "source": [
        "model.save('/content/drive/MyDrive/Development/AI/Research projects/Emotion recognition/best_weights/best_model.h5')"
      ],
      "metadata": {
        "id": "1b4_KIbvPt7E"
      },
      "execution_count": null,
      "outputs": []
    },
    {
      "cell_type": "code",
      "source": [
        "model = keras.models.load_model('/content/drive/MyDrive/Development/AI/Research projects/Emotion recognition/best_weights/best_model.h5')"
      ],
      "metadata": {
        "id": "NkD1N9rjlLv8"
      },
      "execution_count": null,
      "outputs": []
    },
    {
      "cell_type": "markdown",
      "source": [
        "### **Проверка работы нейросети**"
      ],
      "metadata": {
        "id": "9S0SdVBjyYxT"
      }
    },
    {
      "cell_type": "code",
      "source": [
        "# выбираем номер пример\n",
        "n = np.random.randint(X_test.shape[0])\n",
        "# получаем выход сети на этом примере\n",
        "prediction = model.predict(X_test)\n",
        "\n",
        "\n",
        "# выводим на экран результаты\n",
        "print(\"Выход сети: \", prediction[n])"
      ],
      "metadata": {
        "colab": {
          "base_uri": "https://localhost:8080/"
        },
        "id": "4bby0OJRFGdD",
        "outputId": "d535e151-a5a0-4123-84c2-521f21a4f308"
      },
      "execution_count": null,
      "outputs": [
        {
          "output_type": "stream",
          "name": "stdout",
          "text": [
            "Выход сети:  [3.0021291e-02 1.9010123e-03 1.5203169e-01 1.6566753e-05 3.7322862e-03\n",
            " 4.3992826e-04 8.1165338e-01 2.0390702e-04]\n"
          ]
        }
      ]
    },
    {
      "cell_type": "code",
      "source": [
        "n = np.random.randint(X_test.shape[0])\n",
        "prediction = model.predict(X_test)\n",
        "\n",
        "plt.figure(figsize=(5, 5))\n",
        "plt.imshow(Image.fromarray(X_test[n]).convert('RGBA'))\n",
        "plt.show()\n",
        "\n",
        "# определяем эмоцию\n",
        "if np.argmax(prediction[n]) == 0:\n",
        "  print('Обнаружен гнев')\n",
        "elif np.argmax(prediction[n]) == 1:\n",
        "  print('Обнаружено презрение')\n",
        "elif np.argmax(prediction[n]) == 2:\n",
        "  print('Обнаружено отвращение')\n",
        "elif np.argmax(prediction[n]) == 3:\n",
        "  print('Обнаружен страх')\n",
        "elif np.argmax(prediction[n]) == 4:\n",
        "  print('Обнаружена радость')\n",
        "elif np.argmax(prediction[n]) == 5:\n",
        "  print('Обнаружено нейтральное настроение')\n",
        "elif np.argmax(prediction[n]) == 6:\n",
        "  print('Обнаружена печаль')\n",
        "elif np.argmax(prediction[n]) == 7:\n",
        "  print('Обнаружено удивление')\n",
        "\n",
        "\n",
        "# показываем правильный ответ\n",
        "if np.argmax(y_test[n]) == 0:\n",
        "  print('Верный ответ: гнев')\n",
        "elif np.argmax(y_test[n]) == 1:\n",
        "  print('Верный ответ: презрение')\n",
        "elif np.argmax(y_test[n]) == 2:\n",
        "  print('Верный ответ: отвращение')\n",
        "elif np.argmax(y_test[n]) == 3:\n",
        "  print('Верный ответ: страх')\n",
        "elif np.argmax(y_test[n]) == 4:\n",
        "  print('Верный ответ: радость')\n",
        "elif np.argmax(y_test[n]) == 5:\n",
        "  print('Верный ответ: нейстральное настроение')\n",
        "elif np.argmax(y_test[n]) == 6:\n",
        "  print('Верный ответ: печаль')\n",
        "elif np.argmax(y_test[n]) == 7:\n",
        "  print('Верный ответ: удивление')\n"
      ],
      "metadata": {
        "colab": {
          "base_uri": "https://localhost:8080/",
          "height": 356
        },
        "id": "GchGzfZTFGaM",
        "outputId": "f9ade465-0e81-40d5-af56-b5428a61082e"
      },
      "execution_count": null,
      "outputs": [
        {
          "output_type": "display_data",
          "data": {
            "text/plain": [
              "<Figure size 360x360 with 1 Axes>"
            ],
            "image/png": "[encoded data removed]"
          },
          "metadata": {
            "needs_background": "light"
          }
        },
        {
          "output_type": "stream",
          "name": "stdout",
          "text": [
            "Обнаружена радость\n",
            "Верный ответ: радость\n"
          ]
        }
      ]
    },
    {
      "cell_type": "code",
      "source": [],
      "metadata": {
        "id": "BK0SIrswFGW5"
      },
      "execution_count": null,
      "outputs": []
    },
    {
      "cell_type": "code",
      "source": [],
      "metadata": {
        "id": "lQM9RTJRUAhU"
      },
      "execution_count": null,
      "outputs": []
    },
    {
      "cell_type": "code",
      "source": [],
      "metadata": {
        "id": "tu0Kud8jUAZD"
      },
      "execution_count": null,
      "outputs": []
    },
    {
      "cell_type": "code",
      "source": [],
      "metadata": {
        "id": "OkXvBooTFGTl"
      },
      "execution_count": null,
      "outputs": []
    },
    {
      "cell_type": "code",
      "source": [
        "from tensorflow.keras.preprocessing import image\n",
        "image = image.load_img('/content/drive/MyDrive/Development/AI/Data/Emotions/happiness/31875662386_65df018ffc_b_face.png', target_size=(48,48), color_mode='grayscale')"
      ],
      "metadata": {
        "id": "WBhB-zukRB14"
      },
      "execution_count": null,
      "outputs": []
    },
    {
      "cell_type": "code",
      "source": [
        "image"
      ],
      "metadata": {
        "colab": {
          "base_uri": "https://localhost:8080/",
          "height": 65
        },
        "id": "A8S_AnUGS8hC",
        "outputId": "4be3a4b0-0f11-44a9-c32f-ee647701a78c"
      },
      "execution_count": null,
      "outputs": [
        {
          "output_type": "execute_result",
          "data": {
            "text/plain": [
              "<PIL.Image.Image image mode=L size=48x48 at 0x7F638FDFE150>"
            ],
            "image/png": "[encoded data removed]"
          },
          "metadata": {},
          "execution_count": 156
        }
      ]
    },
    {
      "cell_type": "code",
      "source": [
        "# изменяем размер картинки под input_shape\n",
        "\n",
        "iw, ih = image.size\n",
        "w, h = (48, 48)\n",
        "scale = min(w / iw, h / ih)\n",
        "nw = int(iw * scale)\n",
        "nh = int(ih * scale)\n",
        "image_for_predict = image.resize((nw, nh), Image.BICUBIC)\n",
        "new_image = Image.new('RGB', (48,48), (128, 128, 128))\n",
        "new_image.paste(image_for_predict, ((w - nw) // 2, (h - nh) // 2))\n",
        "image_for_predict = new_image\n",
        "image_for_predict = np.array(image_for_predict) / 255.\n",
        "plt.imshow(image_for_predict)\n",
        "image_for_predict = image_for_predict.reshape(1, 48, 48, 3)\n",
        "print (image_for_predict.shape)"
      ],
      "metadata": {
        "colab": {
          "base_uri": "https://localhost:8080/",
          "height": 609
        },
        "id": "kvXrY0LEY-Z_",
        "outputId": "50b1b2cd-c49f-4d48-ec6e-e6bac35f6505"
      },
      "execution_count": null,
      "outputs": [
        {
          "output_type": "stream",
          "name": "stdout",
          "text": [
            "(1, 48, 48, 3)\n"
          ]
        },
        {
          "output_type": "display_data",
          "data": {
            "text/plain": [
              "<Figure size 1440x720 with 1 Axes>"
            ],
            "image/png": "[encoded data removed]"
          },
          "metadata": {
            "needs_background": "light"
          }
        }
      ]
    },
    {
      "cell_type": "code",
      "source": [
        "# выполняем распознавание\n",
        "prediction = model.predict(image_for_predict)\n",
        "\n",
        "# определяем эмоцию\n",
        "if np.argmax(prediction) == 0:\n",
        "  print('Обнаружен гнев')\n",
        "elif np.argmax(prediction) == 1:\n",
        "  print('Обнаружено презрение')\n",
        "elif np.argmax(prediction) == 2:\n",
        "  print('Обнаружено отвращение')\n",
        "elif np.argmax(prediction) == 3:\n",
        "  print('Обнаружен страх')\n",
        "elif np.argmax(prediction) == 4:\n",
        "  print('Обнаружена радость')\n",
        "elif np.argmax(prediction) == 5:\n",
        "  print('Обнаружено нейтральное настроение')\n",
        "elif np.argmax(prediction) == 6:\n",
        "  print('Обнаружена печаль')\n",
        "elif np.argmax(prediction) == 7:\n",
        "  print('Обнаружено удивление')"
      ],
      "metadata": {
        "colab": {
          "base_uri": "https://localhost:8080/"
        },
        "id": "_0MFGBZZY-Wr",
        "outputId": "a3cf08a4-c561-49b0-c682-181888c1b179"
      },
      "execution_count": null,
      "outputs": [
        {
          "output_type": "stream",
          "name": "stdout",
          "text": [
            "Обнаружена печаль\n"
          ]
        }
      ]
    },
    {
      "cell_type": "code",
      "source": [
        "np.argmax(prediction)"
      ],
      "metadata": {
        "colab": {
          "base_uri": "https://localhost:8080/"
        },
        "id": "pFD6na-5beHK",
        "outputId": "e757256b-f9fb-48cc-e2c6-5d3389472462"
      },
      "execution_count": null,
      "outputs": [
        {
          "output_type": "execute_result",
          "data": {
            "text/plain": [
              "6"
            ]
          },
          "metadata": {},
          "execution_count": 145
        }
      ]
    }
  ]
}